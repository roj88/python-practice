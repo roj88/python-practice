{
 "cells": [
  {
   "cell_type": "code",
   "execution_count": 35,
   "metadata": {},
   "outputs": [
    {
     "name": "stdout",
     "output_type": "stream",
     "text": [
      "Libraries being imported at: 00:00:00\n",
      "Libraries finished being imported at: 00:00:00 \n",
      "\n"
     ]
    }
   ],
   "source": [
    "import datetime\n",
    "import sys\n",
    "\n",
    "def now():\n",
    "    \"\"\"\n",
    "    This function returns the local time.\n",
    "    \"\"\"\n",
    "    return datetime.time()\n",
    "\n",
    "import_start = now()\n",
    "\n",
    "print \"Libraries being imported at: %s\" % (import_start)\n",
    "\n",
    "import csv\n",
    "import pandas as pd\n",
    "import sklearn as sk\n",
    "import matplotlib.pyplot as plt\n",
    "\n",
    "\n",
    "import_end = now()\n",
    "\n",
    "print \"Libraries finished being imported at: %s \\n\" % (import_end)"
   ]
  },
  {
   "cell_type": "code",
   "execution_count": 38,
   "metadata": {},
   "outputs": [
    {
     "name": "stdout",
     "output_type": "stream",
     "text": [
      "   Unnamed: 0  Rk             PLAYER POSITION  AGE    MP    FG   FGA  \\\n",
      "0           0   1  Russell Westbrook       PG   28  34.6  10.2  24.0   \n",
      "1           1   2       James Harden       PG   27  36.4   8.3  18.9   \n",
      "2           2   3      Isaiah Thomas       PG   27  33.8   9.0  19.4   \n",
      "3           3   4      Anthony Davis        C   23  36.1  10.3  20.3   \n",
      "4           4   6   DeMarcus Cousins        C   26  34.2   9.0  19.9   \n",
      "\n",
      "   FG_PERCENT   3P       ...         GP   MPG  ORPM  DRPM   RPM  WINS_RPM  \\\n",
      "0       0.425  2.5       ...         81  34.6  6.74 -0.47  6.27     17.34   \n",
      "1       0.440  3.2       ...         81  36.4  6.38 -1.57  4.81     15.54   \n",
      "2       0.463  3.2       ...         76  33.8  5.72 -3.89  1.83      8.19   \n",
      "3       0.505  0.5       ...         75  36.1  0.45  3.90  4.35     12.81   \n",
      "4       0.452  1.8       ...         72  34.2  3.56  0.64  4.20     11.26   \n",
      "\n",
      "    PIE    PACE   W  SALARY_MILLIONS  \n",
      "0  23.0  102.31  46            26.50  \n",
      "1  19.0  102.98  54            26.50  \n",
      "2  16.1   99.84  51             6.59  \n",
      "3  19.2  100.19  31            22.12  \n",
      "4  17.8   97.11  30            16.96  \n",
      "\n",
      "[5 rows x 39 columns]\n"
     ]
    },
    {
     "data": {
      "text/plain": [
       "['Unnamed: 0',\n",
       " 'Rk',\n",
       " 'PLAYER',\n",
       " 'POSITION',\n",
       " 'AGE',\n",
       " 'MP',\n",
       " 'FG',\n",
       " 'FGA',\n",
       " 'FG_PERCENT',\n",
       " '3P',\n",
       " '3PA',\n",
       " '3P_PERCENT',\n",
       " '2P',\n",
       " '2PA',\n",
       " '2P_PERCENT',\n",
       " 'eFG_PERCENT',\n",
       " 'FT',\n",
       " 'FTA',\n",
       " 'FT_PERCENT',\n",
       " 'ORB',\n",
       " 'DRB',\n",
       " 'TRB',\n",
       " 'AST',\n",
       " 'STL',\n",
       " 'BLK',\n",
       " 'TOV',\n",
       " 'PF',\n",
       " 'POINTS',\n",
       " 'TEAM',\n",
       " 'GP',\n",
       " 'MPG',\n",
       " 'ORPM',\n",
       " 'DRPM',\n",
       " 'RPM',\n",
       " 'WINS_RPM',\n",
       " 'PIE',\n",
       " 'PACE',\n",
       " 'W',\n",
       " 'SALARY_MILLIONS']"
      ]
     },
     "execution_count": 38,
     "metadata": {},
     "output_type": "execute_result"
    }
   ],
   "source": [
    "df = pd.read_csv(\"nba_2017_nba_players_with_salary.csv\")\n",
    "print(df.head())"
   ]
  },
  {
   "cell_type": "code",
   "execution_count": 39,
   "metadata": {},
   "outputs": [
    {
     "data": {
      "text/plain": [
       "['Unnamed: 0',\n",
       " 'Rk',\n",
       " 'PLAYER',\n",
       " 'POSITION',\n",
       " 'AGE',\n",
       " 'MP',\n",
       " 'FG',\n",
       " 'FGA',\n",
       " 'FG_PERCENT',\n",
       " '3P',\n",
       " '3PA',\n",
       " '3P_PERCENT',\n",
       " '2P',\n",
       " '2PA',\n",
       " '2P_PERCENT',\n",
       " 'eFG_PERCENT',\n",
       " 'FT',\n",
       " 'FTA',\n",
       " 'FT_PERCENT',\n",
       " 'ORB',\n",
       " 'DRB',\n",
       " 'TRB',\n",
       " 'AST',\n",
       " 'STL',\n",
       " 'BLK',\n",
       " 'TOV',\n",
       " 'PF',\n",
       " 'POINTS',\n",
       " 'TEAM',\n",
       " 'GP',\n",
       " 'MPG',\n",
       " 'ORPM',\n",
       " 'DRPM',\n",
       " 'RPM',\n",
       " 'WINS_RPM',\n",
       " 'PIE',\n",
       " 'PACE',\n",
       " 'W',\n",
       " 'SALARY_MILLIONS']"
      ]
     },
     "execution_count": 39,
     "metadata": {},
     "output_type": "execute_result"
    }
   ],
   "source": [
    "list(df)"
   ]
  },
  {
   "cell_type": "code",
   "execution_count": 47,
   "metadata": {},
   "outputs": [
    {
     "data": {
      "image/png": "[encoded data removed]",
      "text/plain": [
       "<matplotlib.figure.Figure at 0x152d9ab650>"
      ]
     },
     "metadata": {},
     "output_type": "display_data"
    }
   ],
   "source": [
    "df.hist(column=\"POINTS\",\n",
    "        bins=50)          # Plot color\n",
    "plt.show()"
   ]
  },
  {
   "cell_type": "code",
   "execution_count": null,
   "metadata": {
    "collapsed": true
   },
   "outputs": [],
   "source": []
  }
 ],
 "metadata": {
  "kernelspec": {
   "display_name": "Python 2",
   "language": "python",
   "name": "python2"
  },
  "language_info": {
   "codemirror_mode": {
    "name": "ipython",
    "version": 2
   },
   "file_extension": ".py",
   "mimetype": "text/x-python",
   "name": "python",
   "nbconvert_exporter": "python",
   "pygments_lexer": "ipython2",
   "version": "2.7.14"
  }
 },
 "nbformat": 4,
 "nbformat_minor": 2
}
