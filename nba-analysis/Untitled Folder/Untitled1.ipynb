{
 "cells": [
  {
   "cell_type": "code",
   "execution_count": 7,
   "metadata": {},
   "outputs": [
    {
     "name": "stderr",
     "output_type": "stream",
     "text": [
      "Warning message in install.packages(\"MASS\"):\n",
      "“installation of package ‘MASS’ had non-zero exit status”Updating HTML index of packages in '.Library'\n",
      "Making 'packages.html' ... done\n"
     ]
    },
    {
     "ename": "ERROR",
     "evalue": "Error in library(MASS): ‘MASS’ is not a valid installed package\n",
     "output_type": "error",
     "traceback": [
      "Error in library(MASS): ‘MASS’ is not a valid installed package\nTraceback:\n",
      "1. library(MASS)",
      "2. stop(gettextf(\"%s is not a valid installed package\", sQuote(package)), \n .     domain = NA)"
     ]
    }
   ],
   "source": [
    "library(csv)\n",
    "library(MASS)\n",
    "library(mda)"
   ]
  },
  {
   "cell_type": "code",
   "execution_count": 3,
   "metadata": {},
   "outputs": [
    {
     "data": {
      "text/html": [
       "<table>\n",
       "<thead><tr><th scope=col>X</th><th scope=col>Rk</th><th scope=col>PLAYER</th><th scope=col>POSITION</th><th scope=col>AGE</th><th scope=col>MP</th><th scope=col>FG</th><th scope=col>FGA</th><th scope=col>FG.</th><th scope=col>X3P</th><th scope=col>⋯</th><th scope=col>GP</th><th scope=col>MPG</th><th scope=col>ORPM</th><th scope=col>DRPM</th><th scope=col>RPM</th><th scope=col>WINS_RPM</th><th scope=col>PIE</th><th scope=col>PACE</th><th scope=col>W</th><th scope=col>SALARY_MILLIONS</th></tr></thead>\n",
       "<tbody>\n",
       "\t<tr><td>0                </td><td>1                </td><td>Russell Westbrook</td><td>PG               </td><td>28               </td><td>34.6             </td><td>10.2             </td><td>24.0             </td><td>0.425            </td><td>2.5              </td><td>⋯                </td><td>81               </td><td>34.6             </td><td>6.74             </td><td>-0.47            </td><td>6.27             </td><td>17.34            </td><td>23.0             </td><td>102.31           </td><td>46               </td><td>26.50            </td></tr>\n",
       "\t<tr><td>1                </td><td>2                </td><td>James Harden     </td><td>PG               </td><td>27               </td><td>36.4             </td><td> 8.3             </td><td>18.9             </td><td>0.440            </td><td>3.2              </td><td>⋯                </td><td>81               </td><td>36.4             </td><td>6.38             </td><td>-1.57            </td><td>4.81             </td><td>15.54            </td><td>19.0             </td><td>102.98           </td><td>54               </td><td>26.50            </td></tr>\n",
       "\t<tr><td>2                </td><td>3                </td><td>Isaiah Thomas    </td><td>PG               </td><td>27               </td><td>33.8             </td><td> 9.0             </td><td>19.4             </td><td>0.463            </td><td>3.2              </td><td>⋯                </td><td>76               </td><td>33.8             </td><td>5.72             </td><td>-3.89            </td><td>1.83             </td><td> 8.19            </td><td>16.1             </td><td> 99.84           </td><td>51               </td><td> 6.59            </td></tr>\n",
       "\t<tr><td>3                </td><td>4                </td><td>Anthony Davis    </td><td>C                </td><td>23               </td><td>36.1             </td><td>10.3             </td><td>20.3             </td><td>0.505            </td><td>0.5              </td><td>⋯                </td><td>75               </td><td>36.1             </td><td>0.45             </td><td> 3.90            </td><td>4.35             </td><td>12.81            </td><td>19.2             </td><td>100.19           </td><td>31               </td><td>22.12            </td></tr>\n",
       "\t<tr><td>4                </td><td>6                </td><td>DeMarcus Cousins </td><td>C                </td><td>26               </td><td>34.2             </td><td> 9.0             </td><td>19.9             </td><td>0.452            </td><td>1.8              </td><td>⋯                </td><td>72               </td><td>34.2             </td><td>3.56             </td><td> 0.64            </td><td>4.20             </td><td>11.26            </td><td>17.8             </td><td> 97.11           </td><td>30               </td><td>16.96            </td></tr>\n",
       "\t<tr><td>5                </td><td>7                </td><td>Damian Lillard   </td><td>PG               </td><td>26               </td><td>35.9             </td><td> 8.8             </td><td>19.8             </td><td>0.444            </td><td>2.9              </td><td>⋯                </td><td>75               </td><td>35.9             </td><td>4.63             </td><td>-1.49            </td><td>3.14             </td><td>10.72            </td><td>15.9             </td><td> 99.68           </td><td>38               </td><td>24.33            </td></tr>\n",
       "</tbody>\n",
       "</table>\n"
      ],
      "text/latex": [
       "\\begin{tabular}{r|lllllllllllllllllllllllllllllllllllllll}\n",
       " X & Rk & PLAYER & POSITION & AGE & MP & FG & FGA & FG. & X3P & ⋯ & GP & MPG & ORPM & DRPM & RPM & WINS\\_RPM & PIE & PACE & W & SALARY\\_MILLIONS\\\\\n",
       "\\hline\n",
       "\t 0                 & 1                 & Russell Westbrook & PG                & 28                & 34.6              & 10.2              & 24.0              & 0.425             & 2.5               & ⋯                 & 81                & 34.6              & 6.74              & -0.47             & 6.27              & 17.34             & 23.0              & 102.31            & 46                & 26.50            \\\\\n",
       "\t 1                 & 2                 & James Harden      & PG                & 27                & 36.4              &  8.3              & 18.9              & 0.440             & 3.2               & ⋯                 & 81                & 36.4              & 6.38              & -1.57             & 4.81              & 15.54             & 19.0              & 102.98            & 54                & 26.50            \\\\\n",
       "\t 2                 & 3                 & Isaiah Thomas     & PG                & 27                & 33.8              &  9.0              & 19.4              & 0.463             & 3.2               & ⋯                 & 76                & 33.8              & 5.72              & -3.89             & 1.83              &  8.19             & 16.1              &  99.84            & 51                &  6.59            \\\\\n",
       "\t 3                 & 4                 & Anthony Davis     & C                 & 23                & 36.1              & 10.3              & 20.3              & 0.505             & 0.5               & ⋯                 & 75                & 36.1              & 0.45              &  3.90             & 4.35              & 12.81             & 19.2              & 100.19            & 31                & 22.12            \\\\\n",
       "\t 4                 & 6                 & DeMarcus Cousins  & C                 & 26                & 34.2              &  9.0              & 19.9              & 0.452             & 1.8               & ⋯                 & 72                & 34.2              & 3.56              &  0.64             & 4.20              & 11.26             & 17.8              &  97.11            & 30                & 16.96            \\\\\n",
       "\t 5                 & 7                 & Damian Lillard    & PG                & 26                & 35.9              &  8.8              & 19.8              & 0.444             & 2.9               & ⋯                 & 75                & 35.9              & 4.63              & -1.49             & 3.14              & 10.72             & 15.9              &  99.68            & 38                & 24.33            \\\\\n",
       "\\end{tabular}\n"
      ],
      "text/markdown": [
       "\n",
       "X | Rk | PLAYER | POSITION | AGE | MP | FG | FGA | FG. | X3P | ⋯ | GP | MPG | ORPM | DRPM | RPM | WINS_RPM | PIE | PACE | W | SALARY_MILLIONS | \n",
       "|---|---|---|---|---|---|\n",
       "| 0                 | 1                 | Russell Westbrook | PG                | 28                | 34.6              | 10.2              | 24.0              | 0.425             | 2.5               | ⋯                 | 81                | 34.6              | 6.74              | -0.47             | 6.27              | 17.34             | 23.0              | 102.31            | 46                | 26.50             | \n",
       "| 1                 | 2                 | James Harden      | PG                | 27                | 36.4              |  8.3              | 18.9              | 0.440             | 3.2               | ⋯                 | 81                | 36.4              | 6.38              | -1.57             | 4.81              | 15.54             | 19.0              | 102.98            | 54                | 26.50             | \n",
       "| 2                 | 3                 | Isaiah Thomas     | PG                | 27                | 33.8              |  9.0              | 19.4              | 0.463             | 3.2               | ⋯                 | 76                | 33.8              | 5.72              | -3.89             | 1.83              |  8.19             | 16.1              |  99.84            | 51                |  6.59             | \n",
       "| 3                 | 4                 | Anthony Davis     | C                 | 23                | 36.1              | 10.3              | 20.3              | 0.505             | 0.5               | ⋯                 | 75                | 36.1              | 0.45              |  3.90             | 4.35              | 12.81             | 19.2              | 100.19            | 31                | 22.12             | \n",
       "| 4                 | 6                 | DeMarcus Cousins  | C                 | 26                | 34.2              |  9.0              | 19.9              | 0.452             | 1.8               | ⋯                 | 72                | 34.2              | 3.56              |  0.64             | 4.20              | 11.26             | 17.8              |  97.11            | 30                | 16.96             | \n",
       "| 5                 | 7                 | Damian Lillard    | PG                | 26                | 35.9              |  8.8              | 19.8              | 0.444             | 2.9               | ⋯                 | 75                | 35.9              | 4.63              | -1.49             | 3.14              | 10.72             | 15.9              |  99.68            | 38                | 24.33             | \n",
       "\n",
       "\n"
      ],
      "text/plain": [
       "  X Rk PLAYER            POSITION AGE MP   FG   FGA  FG.   X3P ⋯ GP MPG  ORPM\n",
       "1 0 1  Russell Westbrook PG       28  34.6 10.2 24.0 0.425 2.5 ⋯ 81 34.6 6.74\n",
       "2 1 2  James Harden      PG       27  36.4  8.3 18.9 0.440 3.2 ⋯ 81 36.4 6.38\n",
       "3 2 3  Isaiah Thomas     PG       27  33.8  9.0 19.4 0.463 3.2 ⋯ 76 33.8 5.72\n",
       "4 3 4  Anthony Davis     C        23  36.1 10.3 20.3 0.505 0.5 ⋯ 75 36.1 0.45\n",
       "5 4 6  DeMarcus Cousins  C        26  34.2  9.0 19.9 0.452 1.8 ⋯ 72 34.2 3.56\n",
       "6 5 7  Damian Lillard    PG       26  35.9  8.8 19.8 0.444 2.9 ⋯ 75 35.9 4.63\n",
       "  DRPM  RPM  WINS_RPM PIE  PACE   W  SALARY_MILLIONS\n",
       "1 -0.47 6.27 17.34    23.0 102.31 46 26.50          \n",
       "2 -1.57 4.81 15.54    19.0 102.98 54 26.50          \n",
       "3 -3.89 1.83  8.19    16.1  99.84 51  6.59          \n",
       "4  3.90 4.35 12.81    19.2 100.19 31 22.12          \n",
       "5  0.64 4.20 11.26    17.8  97.11 30 16.96          \n",
       "6 -1.49 3.14 10.72    15.9  99.68 38 24.33          "
      ]
     },
     "metadata": {},
     "output_type": "display_data"
    }
   ],
   "source": [
    "df <- read.csv(\"nba_2017_nba_players_with_salary.csv\")\n",
    "head(df)"
   ]
  },
  {
   "cell_type": "code",
   "execution_count": null,
   "metadata": {
    "collapsed": true
   },
   "outputs": [],
   "source": [
    "ggplot(df, aes(POINTS)) +\n",
    "    geom_bar(stat=\"count\")"
   ]
  },
  {
   "cell_type": "code",
   "execution_count": null,
   "metadata": {
    "collapsed": true
   },
   "outputs": [],
   "source": []
  }
 ],
 "metadata": {
  "kernelspec": {
   "display_name": "R",
   "language": "R",
   "name": "ir"
  },
  "language_info": {
   "codemirror_mode": "r",
   "file_extension": ".r",
   "mimetype": "text/x-r-source",
   "name": "R",
   "pygments_lexer": "r",
   "version": "3.4.2"
  }
 },
 "nbformat": 4,
 "nbformat_minor": 2
}
